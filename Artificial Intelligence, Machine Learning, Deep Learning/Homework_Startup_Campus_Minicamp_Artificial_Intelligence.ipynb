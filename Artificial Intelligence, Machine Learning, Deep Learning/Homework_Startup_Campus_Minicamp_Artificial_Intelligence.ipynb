{
  "nbformat": 4,
  "nbformat_minor": 0,
  "metadata": {
    "colab": {
      "provenance": []
    },
    "kernelspec": {
      "name": "python3",
      "display_name": "Python 3"
    },
    "language_info": {
      "name": "python"
    }
  },
  "cells": [
    {
      "cell_type": "code",
      "execution_count": null,
      "metadata": {
        "colab": {
          "base_uri": "https://localhost:8080/"
        },
        "id": "VhU7kSX02plh",
        "outputId": "d3582152-52ea-4335-e736-ecfed1e16590"
      },
      "outputs": [
        {
          "output_type": "stream",
          "name": "stdout",
          "text": [
            "1\n",
            "2\n",
            "3\n",
            "4\n"
          ]
        }
      ],
      "source": [
        "import numpy as np\n",
        "\n",
        "B = np.array([[1,2],[3,4]])\n",
        "\n",
        "for x in B:\n",
        "  for y in x:\n",
        "    print(y)"
      ]
    }
  ]
}